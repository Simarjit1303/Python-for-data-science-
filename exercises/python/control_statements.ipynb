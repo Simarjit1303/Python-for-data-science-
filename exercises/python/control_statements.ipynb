{
  "cells": [
    {
      "cell_type": "markdown",
      "metadata": {
        "id": "view-in-github",
        "colab_type": "text"
      },
      "source": [
        "<a href=\"https://colab.research.google.com/github/Simarjit1303/Python-for-data-science-/blob/main/exercises/python/control_statements.ipynb\" target=\"_parent\"><img src=\"https://colab.research.google.com/assets/colab-badge.svg\" alt=\"Open In Colab\"/></a>"
      ]
    },
    {
      "cell_type": "markdown",
      "id": "broad-significance",
      "metadata": {
        "id": "broad-significance"
      },
      "source": [
        "# Control Statements"
      ]
    },
    {
      "cell_type": "markdown",
      "id": "mighty-picnic",
      "metadata": {
        "id": "mighty-picnic"
      },
      "source": [
        "## Check 2 Numbers are Dividable\n",
        "Write a Python prgoram that takes 2 numbers and prints whether the first one is dividable by the second one or not. For example, if the user inputs 10 and 5, the program should print `\"10 is dividable by 5\"`."
      ]
    },
    {
      "cell_type": "code",
      "execution_count": 3,
      "id": "everyday-league",
      "metadata": {
        "colab": {
          "base_uri": "https://localhost:8080/"
        },
        "id": "everyday-league",
        "outputId": "a20237e2-ec5b-48db-85cd-de18e0040cb9"
      },
      "outputs": [
        {
          "output_type": "stream",
          "name": "stdout",
          "text": [
            " Enter firsr number12\n",
            " Enter second number6\n",
            "12 is dividable by 6\n"
          ]
        }
      ],
      "source": [
        "a = int(input(\" Enter firsr number\"))\n",
        "b = int(input(\" Enter second number\"))\n",
        "if a % b == 0:\n",
        "    print(f\"{a} is dividable by {b}\")\n",
        "else:\n",
        "    print(f\"{a} is not dividable by {b}\")"
      ]
    },
    {
      "cell_type": "markdown",
      "id": "certified-smell",
      "metadata": {
        "id": "certified-smell"
      },
      "source": [
        "## Check a Website Address Has .com\n",
        "Write a Python program that takes a website address and prints out whether it ends with `.com` or not. For example, given the string `\"www.google.com\"`, the program should print `\"www.google.com ends with .com\"`."
      ]
    },
    {
      "cell_type": "code",
      "execution_count": 4,
      "id": "framed-index",
      "metadata": {
        "colab": {
          "base_uri": "https://localhost:8080/"
        },
        "id": "framed-index",
        "outputId": "4a69546e-c953-4a47-ade1-c8d32b296ca0"
      },
      "outputs": [
        {
          "output_type": "stream",
          "name": "stdout",
          "text": [
            " Enter website addresssimarjitsingh132024@outlook.com \n",
            "simarjitsingh132024@outlook.com  ends with '.com'\n"
          ]
        }
      ],
      "source": [
        "a = input(\" Enter website address\")\n",
        "if a.find(\".com\") == -1:\n",
        "  print(f\"{a} doesn't end with '.com'\")\n",
        "else:\n",
        "  print(f\"{a} ends with '.com'\")"
      ]
    },
    {
      "cell_type": "markdown",
      "id": "lonely-hollow",
      "metadata": {
        "id": "lonely-hollow"
      },
      "source": [
        "## Remove Non-String List Elements\n",
        "Write a Python program that takes a list and create another list that only contains string elements of the first list. For example, given the list `[1, \"hello\", 4.3, True, \"bye\"]`, the program should define a list `[\"hello\", \"bye\"]`."
      ]
    },
    {
      "cell_type": "code",
      "execution_count": 5,
      "id": "compound-commissioner",
      "metadata": {
        "colab": {
          "base_uri": "https://localhost:8080/"
        },
        "id": "compound-commissioner",
        "outputId": "99d42640-0fab-463a-fe24-b94b3031b882"
      },
      "outputs": [
        {
          "output_type": "stream",
          "name": "stdout",
          "text": [
            "['hello', 'bye']\n"
          ]
        }
      ],
      "source": [
        "list1 = [1, \"hello\", 4.3, True, \"bye\", 13]\n",
        "list2 = []\n",
        "for i in list1:\n",
        "  if type(i) == str:\n",
        "    list2.append(i)\n",
        "print(list2)"
      ]
    },
    {
      "cell_type": "markdown",
      "id": "conceptual-lobby",
      "metadata": {
        "id": "conceptual-lobby"
      },
      "source": [
        "## Compare Numbers\n",
        "Write a Python program that takes an integer, compares it to a predefined number, and tells the user to guess a larger or smaller number. For example, suppose the predefined number is 10 and the user inputs 7. The program should print `\"7 is too small!\"`."
      ]
    },
    {
      "cell_type": "code",
      "execution_count": 8,
      "id": "religious-leonard",
      "metadata": {
        "colab": {
          "base_uri": "https://localhost:8080/"
        },
        "id": "religious-leonard",
        "outputId": "d2efd0fc-866c-4838-8274-02f0a2962c41"
      },
      "outputs": [
        {
          "output_type": "stream",
          "name": "stdout",
          "text": [
            " Enter a number20\n",
            "20 is equal to 20\n"
          ]
        }
      ],
      "source": [
        "x = 20\n",
        "y = int(input(\" Enter a number\"))\n",
        "if y > x:\n",
        "  print(f\"{y} is too big\")\n",
        "elif y < x:\n",
        "  print(f\"{y} is too small\")\n",
        "else:\n",
        "  print(f\"{y} is equal to {x}\")"
      ]
    },
    {
      "cell_type": "markdown",
      "id": "gorgeous-knitting",
      "metadata": {
        "id": "gorgeous-knitting"
      },
      "source": [
        "## Sum Even Numbers\n",
        "Write a Python program that computes the sum of even numbers in a given list of integers."
      ]
    },
    {
      "cell_type": "code",
      "execution_count": 12,
      "id": "artificial-professor",
      "metadata": {
        "colab": {
          "base_uri": "https://localhost:8080/"
        },
        "id": "artificial-professor",
        "outputId": "e180e4a2-0bab-4152-d505-4fbaf674e4d0"
      },
      "outputs": [
        {
          "output_type": "stream",
          "name": "stdout",
          "text": [
            "Sum of even numbers in a given list of integers is 50.\n"
          ]
        }
      ],
      "source": [
        "list1 = [1, 13, 12, 15, 18, 20, 17]\n",
        "sum = 0\n",
        "for i in list1:\n",
        "  if i % 2 == 0:\n",
        "    sum += i\n",
        "print(f\"Sum of even numbers in a given list of integers is {sum}.\")"
      ]
    },
    {
      "cell_type": "markdown",
      "id": "e3044c58",
      "metadata": {
        "id": "e3044c58"
      },
      "source": [
        "## Find All Divisors\n",
        "Write a Python prgoram that find all divisors of a given positive integer and store them in a list. For example, given 10, the resulting list should be `[1, 2, 5, 10]`."
      ]
    },
    {
      "cell_type": "code",
      "execution_count": 13,
      "id": "9bee6850",
      "metadata": {
        "colab": {
          "base_uri": "https://localhost:8080/"
        },
        "id": "9bee6850",
        "outputId": "e05c7fb2-adc3-4069-cd76-20dbad122145"
      },
      "outputs": [
        {
          "output_type": "stream",
          "name": "stdout",
          "text": [
            "Enter a number - 420\n",
            "[1, 2, 3, 4, 5, 6, 7, 10, 12, 14, 15, 20, 21, 28, 30, 35, 42, 60, 70, 84, 105, 140, 210, 420]\n"
          ]
        }
      ],
      "source": [
        "x  = int(input(\"Enter a number - \"))\n",
        "list1 = []\n",
        "for i in range(1, x+1):\n",
        "  if x % i == 0:\n",
        "    list1.append(i)\n",
        "print(list1)"
      ]
    },
    {
      "cell_type": "markdown",
      "id": "41b462e9",
      "metadata": {
        "id": "41b462e9"
      },
      "source": [
        "## Find the Largest Word\n",
        "Write a Python program that finds the largest word in a given input string. For example, given the string `\"hello how are you\"`, the program should print `\"hello\"`."
      ]
    },
    {
      "cell_type": "code",
      "execution_count": null,
      "id": "13037cad",
      "metadata": {
        "id": "13037cad"
      },
      "outputs": [],
      "source": [
        "str1 = input(\"Enter a sentence - \")\n",
        "list1 = str1.split()"
      ]
    },
    {
      "cell_type": "markdown",
      "id": "3b71775e",
      "metadata": {
        "id": "3b71775e"
      },
      "source": [
        "## Count the Frequency of List Elements\n",
        "Write a Python program that counts the frequency of each element in a given list and store them in a dictionary. For example, given the list `[111, \"hello\", 222, \"hello\", 111]`, the program should define a dictionary `{111: 2, \"hello\": 2, 222: 1}`."
      ]
    },
    {
      "cell_type": "code",
      "execution_count": null,
      "id": "fdb69cdb",
      "metadata": {
        "id": "fdb69cdb"
      },
      "outputs": [],
      "source": []
    }
  ],
  "metadata": {
    "kernelspec": {
      "display_name": "Python 3",
      "language": "python",
      "name": "python3"
    },
    "language_info": {
      "codemirror_mode": {
        "name": "ipython",
        "version": 3
      },
      "file_extension": ".py",
      "mimetype": "text/x-python",
      "name": "python",
      "nbconvert_exporter": "python",
      "pygments_lexer": "ipython3",
      "version": "3.8.5"
    },
    "colab": {
      "provenance": [],
      "include_colab_link": true
    }
  },
  "nbformat": 4,
  "nbformat_minor": 5
}