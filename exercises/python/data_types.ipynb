{
  "cells": [
    {
      "cell_type": "markdown",
      "metadata": {
        "id": "view-in-github",
        "colab_type": "text"
      },
      "source": [
        "<a href=\"https://colab.research.google.com/github/Simarjit1303/Python-for-data-science-/blob/main/exercises/python/data_types.ipynb\" target=\"_parent\"><img src=\"https://colab.research.google.com/assets/colab-badge.svg\" alt=\"Open In Colab\"/></a>"
      ]
    },
    {
      "cell_type": "markdown",
      "id": "novel-stream",
      "metadata": {
        "id": "novel-stream"
      },
      "source": [
        "# Data Types"
      ]
    },
    {
      "cell_type": "markdown",
      "id": "finite-albania",
      "metadata": {
        "id": "finite-albania"
      },
      "source": [
        "## Remove Vowels\n",
        "Write a Python program that takes a string, makes the character lowercase, removes its vowel characters (`\"a\"`, `\"e\"`, `\"i\"`, `\"o\"`, and `\"u\"`) and prints the result. For example, given the string `\"Hello\"`, the program should print `\"hll\"`."
      ]
    },
    {
      "cell_type": "code",
      "source": [
        "# Getting input form the user and convert it to lowercase.\n",
        "word = input(\"Enter a word - \").lower()\n",
        "# Defining a string containing all vowels.\n",
        "vowels = \"aeiou\"\n",
        "# Initializing an empty string to store the result.\n",
        "result = \"\"\n",
        "for x in word:\n",
        "    # Check if the current character is not a vowel.\n",
        "    if x not in vowels:\n",
        "      # If not a vowel, add it to the result string.\n",
        "      result += x\n",
        "# Print the result string (word without vowels).\n",
        "print(result)"
      ],
      "metadata": {
        "id": "WdM_qUxqDA4-",
        "outputId": "b49c02cf-369f-464e-a2e6-106b17f30b3a",
        "colab": {
          "base_uri": "https://localhost:8080/"
        }
      },
      "id": "WdM_qUxqDA4-",
      "execution_count": 12,
      "outputs": [
        {
          "output_type": "stream",
          "name": "stdout",
          "text": [
            "Enter a word - SIMARJIT\n",
            "smrjt\n"
          ]
        }
      ]
    },
    {
      "cell_type": "markdown",
      "id": "formed-candy",
      "metadata": {
        "id": "formed-candy"
      },
      "source": [
        "## Reverse the Words\n",
        "Write a Python program that takes a string containing some words that are separeted with whitespace, reverses the words in the string, and prints the result. For example, given the string `\"hello how are you\"`, the program should print `\"you are how hello\"`."
      ]
    },
    {
      "cell_type": "code",
      "execution_count": 30,
      "id": "forward-berry",
      "metadata": {
        "id": "forward-berry",
        "outputId": "e648d0ff-339b-42f9-c722-c014324faa6e",
        "colab": {
          "base_uri": "https://localhost:8080/"
        }
      },
      "outputs": [
        {
          "output_type": "stream",
          "name": "stdout",
          "text": [
            "Enter a sentence - hello how are you\n",
            "you are how hello\n"
          ]
        }
      ],
      "source": [
        "sentence1 = input(\"Enter a sentence - \")\n",
        "reversed_text = \"\"\n",
        "word = \"\"\n",
        "\n",
        "for char in sentence1:\n",
        "  if char == \" \":\n",
        "    reversed_text = word + ' ' + reversed_text # Adding word at the beginning\n",
        "    word = \"\" # Reset word for the next one\n",
        "  else:\n",
        "    word += char # Build the current word\n",
        "\n",
        "\n",
        "reversed_text = word + ' ' + reversed_text # Adding the last word\n",
        "# removing trailing space\n",
        "print(reversed_text.strip())"
      ]
    },
    {
      "cell_type": "markdown",
      "id": "after-radius",
      "metadata": {
        "id": "after-radius"
      },
      "source": [
        "## Count Common Elements of 2 Lists\n",
        "Write a Python program that prints the number of common elements in two given lists. For example, given `[1, 2, 3]` and `[5, 1, 3]`, the program should print 2."
      ]
    },
    {
      "cell_type": "code",
      "execution_count": 31,
      "id": "adverse-berkeley",
      "metadata": {
        "id": "adverse-berkeley",
        "outputId": "2c9f93bb-b9e1-482e-82f3-c14806a44706",
        "colab": {
          "base_uri": "https://localhost:8080/"
        }
      },
      "outputs": [
        {
          "output_type": "stream",
          "name": "stdout",
          "text": [
            "3\n"
          ]
        }
      ],
      "source": [
        "list1 = [1, 2, 4, 5, 7, 9]\n",
        "list2 = [2, 4, 6, 7, 8, 3]\n",
        "\n",
        "count =  0\n",
        "for x in list1:\n",
        "  if x in list2:\n",
        "    count += 1\n",
        "print(count)"
      ]
    },
    {
      "cell_type": "markdown",
      "id": "secret-theme",
      "metadata": {
        "id": "secret-theme"
      },
      "source": [
        "## Print Sorted Unique Words\n",
        "Write a Python program that takes a string containing some words that are separeted with whitespace, removes all duplicate words, sorts the remaining words alphanumerically, and prints the result. For example, given the string `\"hello world and practice makes perfect and hello world again\"`, the program should print `\"again and hello makes perfect practice world\"`."
      ]
    },
    {
      "cell_type": "code",
      "execution_count": 32,
      "id": "requested-rapid",
      "metadata": {
        "id": "requested-rapid",
        "outputId": "3543ceda-ad14-4d7b-b8bb-ba5266c3c211",
        "colab": {
          "base_uri": "https://localhost:8080/"
        }
      },
      "outputs": [
        {
          "output_type": "stream",
          "name": "stdout",
          "text": [
            "Enter a  string: \"hello world and practice makes perfect and hello world again\n",
            "\"hello again and hello makes perfect practice world\n"
          ]
        }
      ],
      "source": [
        "text1  = input(\"Enter a  string: \")\n",
        "words = text1.split()\n",
        "unique_words = []\n",
        "for string in words:\n",
        "  if string not in unique_words:\n",
        "    unique_words.append(string)\n",
        "\n",
        "unique_words.sort() # Sort directly using the list's sort() method\n",
        "print(\" \".join(unique_words)) # Directly join and print"
      ]
    },
    {
      "cell_type": "markdown",
      "id": "satellite-residence",
      "metadata": {
        "id": "satellite-residence"
      },
      "source": [
        "## Convert a List of Integers to an Integer\n",
        "Write a Python program to convert a given list of integers to an integer. For example, given `[11, 2, 54]`, the program should assign 11254 into an integer variable."
      ]
    },
    {
      "cell_type": "code",
      "execution_count": 33,
      "id": "excessive-spectrum",
      "metadata": {
        "id": "excessive-spectrum",
        "outputId": "b16ee45d-ced7-4dbc-a123-1dd99e4468a7",
        "colab": {
          "base_uri": "https://localhost:8080/"
        }
      },
      "outputs": [
        {
          "output_type": "stream",
          "name": "stdout",
          "text": [
            "11543648\n"
          ]
        }
      ],
      "source": [
        "list1 = [11, 54, 36, 48]\n",
        "result = \"\"\n",
        "for x in list1:\n",
        "  result += str(x)\n",
        "print(int(result))"
      ]
    }
  ],
  "metadata": {
    "kernelspec": {
      "display_name": "Python 3",
      "language": "python",
      "name": "python3"
    },
    "language_info": {
      "codemirror_mode": {
        "name": "ipython",
        "version": 3
      },
      "file_extension": ".py",
      "mimetype": "text/x-python",
      "name": "python",
      "nbconvert_exporter": "python",
      "pygments_lexer": "ipython3",
      "version": "3.8.5"
    },
    "colab": {
      "provenance": [],
      "include_colab_link": true
    }
  },
  "nbformat": 4,
  "nbformat_minor": 5
}