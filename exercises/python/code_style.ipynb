{
  "cells": [
    {
      "cell_type": "markdown",
      "metadata": {
        "id": "view-in-github",
        "colab_type": "text"
      },
      "source": [
        "<a href=\"https://colab.research.google.com/github/Simarjit1303/Python-for-data-science-/blob/main/exercises/python/code_style.ipynb\" target=\"_parent\"><img src=\"https://colab.research.google.com/assets/colab-badge.svg\" alt=\"Open In Colab\"/></a>"
      ]
    },
    {
      "cell_type": "markdown",
      "id": "isolated-catholic",
      "metadata": {
        "id": "isolated-catholic"
      },
      "source": [
        "# Code Style\n",
        "You should clean up the code according to PEP 8 guidelines. In particular, you should make sure that\n",
        "- class names are in CamelCase.\n",
        "- variable and function names are in lowercase, with words separated by underscores.\n",
        "- there are proper spaces around operators and function arguments.\n",
        "- the code is appropriately indented.\n",
        "- docstrings are included for the class and methods to provide clear documentation."
      ]
    },
    {
      "cell_type": "markdown",
      "id": "be7d31a9",
      "metadata": {
        "id": "be7d31a9"
      },
      "source": [
        "## Circle Class"
      ]
    },
    {
      "cell_type": "code",
      "source": [
        "PI = 3.14\n",
        "\n",
        "class Circle:\n",
        "    \"\"\"\n",
        "    Represents a circle with a given radius.\n",
        "    \"\"\"\n",
        "    def __init__(self, radius):\n",
        "        \"\"\"\n",
        "        Initializes a Circle object.\n",
        "\n",
        "        Args:\n",
        "            radius: The radius of the circle.\n",
        "        \"\"\"\n",
        "        self.radius = radius\n",
        "\n",
        "    @property\n",
        "    def area(self):\n",
        "        \"\"\"\n",
        "        Calculates the area of the circle.\n",
        "\n",
        "        Returns:\n",
        "            The area of the circle.\n",
        "        \"\"\"\n",
        "        return (self.radius ** 2) * PI\n",
        "\n",
        "    @property\n",
        "    def perimeter(self):\n",
        "        \"\"\"\n",
        "        Calculates the perimeter (circumference) of the circle.\n",
        "\n",
        "        Returns:\n",
        "            The perimeter of the circle.\n",
        "        \"\"\"\n",
        "        return 2 * self.radius * PI\n",
        "\n",
        "small_circle = Circle(1)\n",
        "big_circle = Circle(5)\n",
        "\n",
        "print(f\"Area of small circle = {small_circle.area}\")\n",
        "print(f\"Perimeter of small circle = {small_circle.perimeter}\")\n",
        "print(f\"Area of big circle = {big_circle.area}\")\n",
        "print(f\"Perimeter of big circle = {big_circle.perimeter}\")"
      ],
      "metadata": {
        "id": "iqyiE31c0Y7r"
      },
      "id": "iqyiE31c0Y7r",
      "execution_count": null,
      "outputs": []
    },
    {
      "cell_type": "markdown",
      "id": "fbed88d4",
      "metadata": {
        "id": "fbed88d4"
      },
      "source": [
        "## Animal Class"
      ]
    },
    {
      "cell_type": "code",
      "execution_count": 2,
      "id": "going-custom",
      "metadata": {
        "id": "going-custom",
        "outputId": "baf35be5-4a57-4866-c73b-cfef60130441",
        "colab": {
          "base_uri": "https://localhost:8080/"
        }
      },
      "outputs": [
        {
          "output_type": "stream",
          "name": "stdout",
          "text": [
            "Name: Tom\n",
            "Type: cat\n",
            "Age: 3\n",
            "Meow!\n"
          ]
        }
      ],
      "source": [
        "class Animal:\n",
        "    \"\"\"\n",
        "    Represents an animal with a name, type, and age.\n",
        "    \"\"\"\n",
        "    def __init__(self, name, type, age):\n",
        "        \"\"\"\n",
        "        Initializes an Animal object.\n",
        "\n",
        "        Args:\n",
        "            name: The name of the animal.\n",
        "            type: The type of the animal.\n",
        "            age: The age of the animal.\n",
        "        \"\"\"\n",
        "        self.name = name\n",
        "        self.type = type\n",
        "        self.age = age\n",
        "\n",
        "    def get_name(self):\n",
        "        \"\"\"\n",
        "        Returns the name of the animal.\n",
        "\n",
        "        Returns:\n",
        "            The name of the animal.\n",
        "        \"\"\"\n",
        "        return self.name\n",
        "\n",
        "    def get_type(self):\n",
        "        \"\"\"\n",
        "        Returns the type of the animal.\n",
        "\n",
        "        Returns:\n",
        "            The type of the animal.\n",
        "        \"\"\"\n",
        "        return self.type\n",
        "\n",
        "    def get_age(self):\n",
        "        \"\"\"\n",
        "        Returns the age of the animal.\n",
        "\n",
        "        Returns:\n",
        "            The age of the animal.\n",
        "        \"\"\"\n",
        "        return self.age\n",
        "\n",
        "    def speak(self):\n",
        "        \"\"\"\n",
        "        Prints a sound based on the animal's type.\n",
        "        \"\"\"\n",
        "        if self.type.lower() == \"cat\":\n",
        "            print(\"Meow!\")\n",
        "        elif self.type.lower() == \"dog\":\n",
        "            print(\"Woof!\")\n",
        "        else:\n",
        "            print(\"Unknown animal type.\")"
      ]
    }
  ],
  "metadata": {
    "kernelspec": {
      "display_name": "Python 3",
      "language": "python",
      "name": "python3"
    },
    "language_info": {
      "codemirror_mode": {
        "name": "ipython",
        "version": 3
      },
      "file_extension": ".py",
      "mimetype": "text/x-python",
      "name": "python",
      "nbconvert_exporter": "python",
      "pygments_lexer": "ipython3",
      "version": "3.11.2"
    },
    "colab": {
      "provenance": [],
      "include_colab_link": true
    }
  },
  "nbformat": 4,
  "nbformat_minor": 5
}