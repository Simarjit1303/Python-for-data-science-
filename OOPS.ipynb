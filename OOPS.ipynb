{
  "nbformat": 4,
  "nbformat_minor": 0,
  "metadata": {
    "colab": {
      "provenance": [],
      "authorship_tag": "ABX9TyP2xwjvu+SmdibsB5ZI6hU6",
      "include_colab_link": true
    },
    "kernelspec": {
      "name": "python3",
      "display_name": "Python 3"
    },
    "language_info": {
      "name": "python"
    }
  },
  "cells": [
    {
      "cell_type": "markdown",
      "metadata": {
        "id": "view-in-github",
        "colab_type": "text"
      },
      "source": [
        "<a href=\"https://colab.research.google.com/github/Simarjit1303/Python-for-data-science-/blob/main/OOPS.ipynb\" target=\"_parent\"><img src=\"https://colab.research.google.com/assets/colab-badge.svg\" alt=\"Open In Colab\"/></a>"
      ]
    },
    {
      "cell_type": "markdown",
      "source": [
        "# Classes"
      ],
      "metadata": {
        "id": "tqqLDOme6-JI"
      }
    },
    {
      "cell_type": "code",
      "source": [
        "class Dog():\n",
        "\n",
        "   \"\"\"A simple attempt to model a dog.\"\"\"\n",
        "\n",
        "   def __init__(self, name, age):\n",
        "      \"\"\"Initialize name and age attributes.\"\"\"\n",
        "      self.name = name\n",
        "      self.age = age\n",
        "   def sit(self):\n",
        "      \"\"\"Simulate a dog sitting in response to a command.\"\"\"\n",
        "      print(self.name.title() + \" is now sitting.\")\n",
        "\n",
        "   def roll_over(self):\n",
        "      \"\"\"Simulate rolling over in response to a command.\"\"\"\n",
        "      print(self.name.title() + \" rolled over!\")\n",
        "\n",
        "\n",
        "my_dog = Dog(\"Rocky\", 5)\n",
        "your_dog =  Dog(\"lucy\", 3)\n",
        "\n",
        "print(\"My dog's name is \" + my_dog.name.title() + \".\")\n",
        "print(\"My dog is \" + str(my_dog.age) + \" years old.\")\n",
        "my_dog.sit()\n",
        "\n",
        "print(\"\\n Your dog's name is \" + your_dog.name.title() + \".\")\n",
        "print(\"Your dog is \" + str(your_dog.age) + \" years old.\")\n",
        "your_dog.sit()\n"
      ],
      "metadata": {
        "colab": {
          "base_uri": "https://localhost:8080/"
        },
        "id": "R_Pgvopn7m2Y",
        "outputId": "1ba9acd1-43dc-4150-d5d0-4c9e3f589d69"
      },
      "execution_count": 12,
      "outputs": [
        {
          "output_type": "stream",
          "name": "stdout",
          "text": [
            "My dog's name is Rocky.\n",
            "My dog is 5 years old.\n",
            "Rocky is now sitting.\n",
            "\n",
            " Your dog's name is Lucy.\n",
            "Your dog is 3 years old.\n",
            "Lucy is now sitting.\n"
          ]
        }
      ]
    },
    {
      "cell_type": "markdown",
      "source": [
        "# Car  Class"
      ],
      "metadata": {
        "id": "CvlfRm34DeLY"
      }
    },
    {
      "cell_type": "code",
      "source": [
        "class Car():\n",
        "  def __init__(self, make, model, year):\n",
        "    \"\"\"Initialize attributes to describe a car.\"\"\"\n",
        "    self.make = make\n",
        "    self.model = model\n",
        "    self.year = year\n",
        "    self.odometer_reading = 0\n",
        "\n",
        "  def get_descriptive_name(self):\n",
        "    \"\"\"Return a neatly formatted descriptive name.\"\"\"\n",
        "    long_name = str(self.year) + ' ' + self.make + ' ' + self.model\n",
        "    return long_name.title()\n",
        "\n",
        "  def read_odometer(self):\n",
        "    \"\"\"Print a statement showing the car's mileage.\"\"\"\n",
        "    print(\"This car has \" + str(self.odometer_reading) + \" miles on it.\")\n",
        "\n",
        "  def update_odometer(self, mileage):\n",
        "    \"\"\"\n",
        "    Set the odometer reading to the given value.\n",
        "    Reject the change if it attempts to roll the odometer back.\n",
        "    \"\"\"\n",
        "    if mileage >= self.odometer_reading:\n",
        "      self.odometer_reading = mileage\n",
        "    else:\n",
        "      print(\"You can't roll back an odometer!\")\n",
        "\n",
        "  def increment_odometer(self, miles):\n",
        "    \"\"\"Add the given amount to the odometer reading.\"\"\"\n",
        "    self.odometer_reading += miles\n",
        "\n",
        "\n",
        "my_used_car = Car('BMW', 'M2', 2018)\n",
        "print(my_used_car.get_descriptive_name())\n",
        "\n",
        "my_used_car.update_odometer(26700)\n",
        "my_used_car.read_odometer()\n",
        "\n",
        "my_used_car.increment_odometer(100)\n",
        "my_used_car.read_odometer()"
      ],
      "metadata": {
        "colab": {
          "base_uri": "https://localhost:8080/"
        },
        "id": "7VwBTYWYAa4n",
        "outputId": "3b132a60-e647-48c2-e54f-0eccfd82efbf"
      },
      "execution_count": 24,
      "outputs": [
        {
          "output_type": "stream",
          "name": "stdout",
          "text": [
            "2018 Bmw M2\n",
            "This car has 26700 miles on it.\n",
            "This car has 26800 miles on it.\n"
          ]
        }
      ]
    },
    {
      "cell_type": "code",
      "source": [
        "class ElectricCar(Car):\n",
        "  \"\"\"Represent aspects of a car, specific to electric vehicles.\"\"\"\n",
        "  def __init__(self, make, model, year):\n",
        "    \"\"\"\n",
        "    Initialize attributes of the parent class.\n",
        "    Then initialize attributes specific to an electric car.\n",
        "    \"\"\"\n",
        "    super().__init__(make, model, year)\n",
        "    self.battery_size = 70\n",
        "\n",
        "  def describe_battery(self):\n",
        "    \"\"\"Print a statement describing the battery size.\"\"\"\n",
        "    print(\"This car has a \" + str(self.battery_size) + \"-kWh battery.\")\n",
        "\n",
        "  def fill_gas_tank():\n",
        "    \"\"\"Electric cars don't have gas tanks. \"\"\"\n",
        "    print(\"This car doesn't need a gas tank!\")\n",
        "\n",
        "\n",
        "my_tesla = ElectricCar('tesla', 'model s', 2016)\n",
        "print(my_tesla.get_descriptive_name())\n",
        "my_tesla.describe_battery()"
      ],
      "metadata": {
        "colab": {
          "base_uri": "https://localhost:8080/"
        },
        "id": "FiDsWbDvR5YJ",
        "outputId": "97c9dbcb-9342-42b2-cdbe-5a6ba627132b"
      },
      "execution_count": 29,
      "outputs": [
        {
          "output_type": "stream",
          "name": "stdout",
          "text": [
            "2016 Tesla Model S\n",
            "This car has a 70-kWh battery.\n"
          ]
        }
      ]
    },
    {
      "cell_type": "code",
      "source": [
        "class Battery():\n",
        "  \"\"\" A simple attempt to model a battery for an electric car. \"\"\"\n",
        "  def __init__(self, battery_size=70):\n",
        "    \"\"\" Initialize the batteery's attributes. \"\"\"\n",
        "    self.battery_size = battery_size\n",
        "\n",
        "  def describe_battery(self):\n",
        "    \"\"\" Print a statement describing the battery size. \"\"\"\n",
        "    print(\"This car has a \" + str(self.battery_size) + \"-kWh battery.\")\n",
        "\n",
        "class ElectricCar(Car):\n",
        "  \"\"\"Represent aspects of a car, specific to electric vehicles.\"\"\"\n",
        "  def __init__(self, make, model, year):\n",
        "    \"\"\"\n",
        "    Initialize attributes of the parent class.\n",
        "    Then initialize attributes specific to an electric car.\n",
        "    \"\"\"\n",
        "    super().__init__(make, model, year)\n",
        "    self.battery = Battery()\n",
        "\n",
        "\n",
        "my_tesla = ElectricCar('tesla', 'model s', 2016)\n",
        "print(my_tesla.get_descriptive_name())\n",
        "my_tesla.battery.describe_battery()"
      ],
      "metadata": {
        "colab": {
          "base_uri": "https://localhost:8080/"
        },
        "id": "TK5CMGlpT5m9",
        "outputId": "c6802762-cc78-48fd-e0b6-5ee3ac548f7b"
      },
      "execution_count": 31,
      "outputs": [
        {
          "output_type": "stream",
          "name": "stdout",
          "text": [
            "2016 Tesla Model S\n",
            "This car has a 70-kWh battery.\n"
          ]
        }
      ]
    }
  ]
}