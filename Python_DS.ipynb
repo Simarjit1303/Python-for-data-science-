{
  "nbformat": 4,
  "nbformat_minor": 0,
  "metadata": {
    "colab": {
      "provenance": [],
      "authorship_tag": "ABX9TyMLJZ+q2ho4iHow8A7Tqbcw",
      "include_colab_link": true
    },
    "kernelspec": {
      "name": "python3",
      "display_name": "Python 3"
    },
    "language_info": {
      "name": "python"
    }
  },
  "cells": [
    {
      "cell_type": "markdown",
      "metadata": {
        "id": "view-in-github",
        "colab_type": "text"
      },
      "source": [
        "<a href=\"https://colab.research.google.com/github/Simarjit1303/Python-for-data-science-/blob/main/Python_DS.ipynb\" target=\"_parent\"><img src=\"https://colab.research.google.com/assets/colab-badge.svg\" alt=\"Open In Colab\"/></a>"
      ]
    },
    {
      "cell_type": "code",
      "execution_count": null,
      "metadata": {
        "id": "1t42BUG4wAGV",
        "colab": {
          "base_uri": "https://localhost:8080/"
        },
        "outputId": "0d88550c-6c47-4546-da71-ba599cf1591c"
      },
      "outputs": [
        {
          "output_type": "execute_result",
          "data": {
            "text/plain": [
              "18"
            ]
          },
          "metadata": {},
          "execution_count": 4
        }
      ],
      "source": [
        "st = \"Michael is a good example: Michael Jordan was a very good basketball player. Howver, he is retired now\"\n",
        "len(st.split(\" \"))"
      ]
    },
    {
      "cell_type": "code",
      "source": [
        "name = \"Sai Pawan\"\n",
        "message  = f\"The name of the student is {name}\"\n",
        "print(message)"
      ],
      "metadata": {
        "colab": {
          "base_uri": "https://localhost:8080/"
        },
        "id": "wyfLJIIN1c6g",
        "outputId": "7cbfd1bf-3243-4edf-93bb-215ca310bf30"
      },
      "execution_count": null,
      "outputs": [
        {
          "output_type": "stream",
          "name": "stdout",
          "text": [
            "The name of the student is Sai Pawan\n"
          ]
        }
      ]
    },
    {
      "cell_type": "code",
      "source": [
        "name = \"Gisma\"\n",
        "message  = f\"The name of the university is {name}\"\n",
        "print(message)"
      ],
      "metadata": {
        "colab": {
          "base_uri": "https://localhost:8080/"
        },
        "id": "BSNWQeXF0skS",
        "outputId": "9a2e062a-cc20-409c-9ac8-935d7f7f5432"
      },
      "execution_count": null,
      "outputs": [
        {
          "output_type": "stream",
          "name": "stdout",
          "text": [
            "The name of the university is Gisma\n"
          ]
        }
      ]
    },
    {
      "cell_type": "code",
      "source": [
        "First_name = \"Simarjit\"\n",
        "Last_name = \"Singh\"\n",
        "print(f\"My name is {First_name} and my surname is {Last_name}\")"
      ],
      "metadata": {
        "colab": {
          "base_uri": "https://localhost:8080/"
        },
        "id": "YHlUTwFb1wpH",
        "outputId": "c07f4140-0190-4c99-f027-7d8e274ee02f"
      },
      "execution_count": null,
      "outputs": [
        {
          "output_type": "stream",
          "name": "stdout",
          "text": [
            "My name is Simarjit and my surname is Singh\n"
          ]
        }
      ]
    },
    {
      "cell_type": "code",
      "source": [
        "lst = [23, 2, 4, 5, 7, 23, 1, 3, 24, 6, 7, 8, 2, 4, 5, 100]\n",
        "print(list(set(lst)))"
      ],
      "metadata": {
        "colab": {
          "base_uri": "https://localhost:8080/"
        },
        "id": "iSGbHZyR3ODL",
        "outputId": "639740de-9ab4-4b0c-eecc-4cabcd6cd855"
      },
      "execution_count": null,
      "outputs": [
        {
          "output_type": "stream",
          "name": "stdout",
          "text": [
            "[1, 2, 3, 4, 5, 6, 7, 8, 100, 23, 24]\n"
          ]
        }
      ]
    },
    {
      "cell_type": "code",
      "source": [
        "x = 12\n",
        "y = 33\n",
        "if x < y and y % 2 != 0:\n",
        "  print(\"Yes\")\n",
        "else:\n",
        "  print(\"No\")"
      ],
      "metadata": {
        "colab": {
          "base_uri": "https://localhost:8080/"
        },
        "id": "1iQDOoqNO1JR",
        "outputId": "0a86746c-a122-45c9-ee19-7953acf44f98"
      },
      "execution_count": null,
      "outputs": [
        {
          "output_type": "stream",
          "name": "stdout",
          "text": [
            "Yes\n"
          ]
        }
      ]
    },
    {
      "cell_type": "code",
      "source": [
        "x,y = 12,33\n",
        "status =  \"Positive\" if x < y and y % 2 != 0 else \"Negative\""
      ],
      "metadata": {
        "colab": {
          "base_uri": "https://localhost:8080/"
        },
        "id": "ECKogP-ERmod",
        "outputId": "ecd7926e-2eb3-4063-8cfd-40bbf8680d4b"
      },
      "execution_count": null,
      "outputs": [
        {
          "output_type": "stream",
          "name": "stdout",
          "text": [
            "yes\n"
          ]
        }
      ]
    },
    {
      "cell_type": "markdown",
      "source": [
        "# Iterative Statements"
      ],
      "metadata": {
        "id": "Wc7hy-2dxdQ2"
      }
    },
    {
      "cell_type": "code",
      "source": [
        "# While loop\n",
        "x = int(input(\"Enter a number: \"))\n",
        "\n",
        "while x>0:\n",
        "  print(' * '*x)\n",
        "  x -= 1"
      ],
      "metadata": {
        "id": "F2FQnGUG2FnM",
        "outputId": "1ef4a5f0-3d32-48d8-db42-8ff4e3139de9",
        "colab": {
          "base_uri": "https://localhost:8080/"
        }
      },
      "execution_count": 17,
      "outputs": [
        {
          "output_type": "stream",
          "name": "stdout",
          "text": [
            "Enter a number: 4\n",
            " *  *  *  * \n",
            " *  *  * \n",
            " *  * \n",
            " * \n"
          ]
        }
      ]
    },
    {
      "cell_type": "code",
      "source": [
        "# While loop\n",
        "n = int(input(\"Enter a number: \"))\n",
        "\n",
        "x = 1\n",
        "while x < n:\n",
        "  print('*'*x)\n",
        "  x += 1"
      ],
      "metadata": {
        "id": "rCiaeGPq2wh8",
        "outputId": "81d2ef3a-ba67-42d8-f066-469881e48123",
        "colab": {
          "base_uri": "https://localhost:8080/"
        }
      },
      "execution_count": 2,
      "outputs": [
        {
          "output_type": "stream",
          "name": "stdout",
          "text": [
            "Enter a number: 18\n",
            "*\n",
            "**\n",
            "***\n",
            "****\n",
            "*****\n",
            "******\n",
            "*******\n",
            "********\n",
            "*********\n",
            "**********\n",
            "***********\n",
            "************\n",
            "*************\n",
            "**************\n",
            "***************\n",
            "****************\n",
            "*****************\n",
            "******************\n"
          ]
        }
      ]
    },
    {
      "cell_type": "markdown",
      "source": [
        "#for loop"
      ],
      "metadata": {
        "id": "Vx9p_kx74ovE"
      }
    },
    {
      "cell_type": "code",
      "source": [
        "# for loop\n",
        "for i in [1,2,3]:\n",
        "  print(i)"
      ],
      "metadata": {
        "id": "pV8j2aEE35Wd"
      },
      "execution_count": null,
      "outputs": []
    },
    {
      "cell_type": "code",
      "source": [
        "[*range(10)]"
      ],
      "metadata": {
        "id": "yayFbcRh4mAl",
        "outputId": "fbc6bd9f-90cb-4d40-87e0-630e830ea8d9",
        "colab": {
          "base_uri": "https://localhost:8080/"
        }
      },
      "execution_count": 18,
      "outputs": [
        {
          "output_type": "execute_result",
          "data": {
            "text/plain": [
              "[0, 1, 2, 3, 4, 5, 6, 7, 8, 9]"
            ]
          },
          "metadata": {},
          "execution_count": 18
        }
      ]
    },
    {
      "cell_type": "code",
      "source": [
        "for i in range(1,10):\n",
        "  print(i)"
      ],
      "metadata": {
        "id": "_HAk8QBI4xEV",
        "outputId": "f0f1b26f-013d-4bb3-cf6b-2b8e42de98f5",
        "colab": {
          "base_uri": "https://localhost:8080/"
        }
      },
      "execution_count": 21,
      "outputs": [
        {
          "output_type": "stream",
          "name": "stdout",
          "text": [
            "1\n",
            "2\n",
            "3\n",
            "4\n",
            "5\n",
            "6\n",
            "7\n",
            "8\n",
            "9\n"
          ]
        }
      ]
    },
    {
      "cell_type": "code",
      "source": [
        "for i in range(1,11, 3):\n",
        "  print(i)"
      ],
      "metadata": {
        "id": "tIC0Ccr-5LQu",
        "outputId": "69ed4fc8-32c5-4340-88c9-890bd9ed1016",
        "colab": {
          "base_uri": "https://localhost:8080/"
        }
      },
      "execution_count": 23,
      "outputs": [
        {
          "output_type": "stream",
          "name": "stdout",
          "text": [
            "1\n",
            "4\n",
            "7\n",
            "10\n"
          ]
        }
      ]
    },
    {
      "cell_type": "code",
      "source": [
        "for i in range(10, 0, -3):\n",
        "  print(i)"
      ],
      "metadata": {
        "id": "QGY4cs2w5eNt",
        "outputId": "ac318a52-d393-4acb-8aad-2a3c5057f15a",
        "colab": {
          "base_uri": "https://localhost:8080/"
        }
      },
      "execution_count": 25,
      "outputs": [
        {
          "output_type": "stream",
          "name": "stdout",
          "text": [
            "10\n",
            "7\n",
            "4\n",
            "1\n"
          ]
        }
      ]
    },
    {
      "cell_type": "code",
      "source": [
        "x = int(input(\"Enter number: \"))\n",
        "for i in range(x):\n",
        "  print(\"*\"*x)\n",
        "  x -= 1"
      ],
      "metadata": {
        "id": "GW1ovWEJ5vFL",
        "outputId": "2e82d1c0-5cc5-4bde-f5e8-7f7322dedc19",
        "colab": {
          "base_uri": "https://localhost:8080/"
        }
      },
      "execution_count": 27,
      "outputs": [
        {
          "output_type": "stream",
          "name": "stdout",
          "text": [
            "Enter number: 6\n",
            "******\n",
            "*****\n",
            "****\n",
            "***\n",
            "**\n",
            "*\n"
          ]
        }
      ]
    },
    {
      "cell_type": "code",
      "source": [
        "x = int(input(\"Enter number: \"))\n",
        "for i in range(x+1):\n",
        "  print(\"*\"*i)"
      ],
      "metadata": {
        "id": "avblH5va6AXv",
        "outputId": "090e8684-b6a2-4681-d8e7-6d5f846f1464",
        "colab": {
          "base_uri": "https://localhost:8080/"
        }
      },
      "execution_count": 33,
      "outputs": [
        {
          "output_type": "stream",
          "name": "stdout",
          "text": [
            "Enter number: 6\n",
            "\n",
            "*\n",
            "**\n",
            "***\n",
            "****\n",
            "*****\n",
            "******\n"
          ]
        }
      ]
    },
    {
      "cell_type": "markdown",
      "source": [
        "# Break"
      ],
      "metadata": {
        "id": "xv80rwD96ul4"
      }
    },
    {
      "cell_type": "code",
      "source": [
        "for i in range(1,11):\n",
        "  if i == 5:\n",
        "    break\n",
        "  print(i)"
      ],
      "metadata": {
        "id": "UTU5VI846wcf",
        "outputId": "1c784015-daac-4a93-d226-ba6bf0003b14",
        "colab": {
          "base_uri": "https://localhost:8080/"
        }
      },
      "execution_count": 34,
      "outputs": [
        {
          "output_type": "stream",
          "name": "stdout",
          "text": [
            "1\n",
            "2\n",
            "3\n",
            "4\n"
          ]
        }
      ]
    },
    {
      "cell_type": "markdown",
      "source": [
        "# Continue"
      ],
      "metadata": {
        "id": "b0WAlKJt6-up"
      }
    },
    {
      "cell_type": "code",
      "source": [
        "for i in range(1,11):\n",
        "  if i == 5:\n",
        "    continue\n",
        "  print(i)"
      ],
      "metadata": {
        "id": "CtFzV9ej7BRZ",
        "outputId": "592c1427-b20e-4b92-e901-8ec907b82ddd",
        "colab": {
          "base_uri": "https://localhost:8080/"
        }
      },
      "execution_count": 35,
      "outputs": [
        {
          "output_type": "stream",
          "name": "stdout",
          "text": [
            "1\n",
            "2\n",
            "3\n",
            "4\n",
            "6\n",
            "7\n",
            "8\n",
            "9\n",
            "10\n"
          ]
        }
      ]
    },
    {
      "cell_type": "markdown",
      "source": [
        "# Pass"
      ],
      "metadata": {
        "id": "tsiSm3Fo7Hj0"
      }
    },
    {
      "cell_type": "code",
      "source": [
        "n = int(input(\"Enter nuber\"))\n",
        "while n != 0:\n",
        "  factorial = 1\n",
        "  factorial_expression = \"1\"\n",
        "  for i in range(2, n+1):\n",
        "    factorial *= i\n",
        "    factorial_expression += f\"*{i}\"\n",
        "  print(f\"{n}! = {factorial_expression}!\")\n",
        "  n -= 1\n",
        "else:\n",
        "  print(\"0! = 1\")\n"
      ],
      "metadata": {
        "id": "aRbTPcbc7G4B",
        "outputId": "c26bf57a-aa39-4afc-ea58-757d8cdebb88",
        "colab": {
          "base_uri": "https://localhost:8080/"
        }
      },
      "execution_count": 54,
      "outputs": [
        {
          "output_type": "stream",
          "name": "stdout",
          "text": [
            "Enter nuber5\n",
            "5! = 1*2*3*4*5!\n",
            "4! = 1*2*3*4!\n",
            "3! = 1*2*3!\n",
            "2! = 1*2!\n",
            "1! = 1!\n",
            "0! = 1\n"
          ]
        }
      ]
    },
    {
      "cell_type": "code",
      "source": [
        "n = int(input(\"Enter nuber\"))\n",
        "\n",
        "factorial = 1\n",
        "factorial_expression = \"1\"\n",
        "print(f\"0! = 1\")\n",
        "for i in range(1, n+1):\n",
        "  factorial *= i\n",
        "  factorial_expression = \"1\"\n",
        "  for j in range(2, i+1):\n",
        "    factorial_expression += f\"*{j}\"\n",
        "  print(f\"{i}! = {factorial_expression}!\")\n"
      ],
      "metadata": {
        "id": "G7_lOJUZBaQg",
        "outputId": "be32440d-dad6-4784-b271-eb2687c4f90b",
        "colab": {
          "base_uri": "https://localhost:8080/"
        }
      },
      "execution_count": 57,
      "outputs": [
        {
          "output_type": "stream",
          "name": "stdout",
          "text": [
            "Enter nuber5\n",
            "0! = 1\n",
            "1! = 1!\n",
            "2! = 1*2!\n",
            "3! = 1*2*3!\n",
            "4! = 1*2*3*4!\n",
            "5! = 1*2*3*4*5!\n"
          ]
        }
      ]
    },
    {
      "cell_type": "markdown",
      "source": [
        "Q . Develop a Python program to give the index of Fibonacci Sequence from user and print the sequence from beginning to the given index."
      ],
      "metadata": {
        "id": "lcW7FyKDH5vM"
      }
    },
    {
      "cell_type": "code",
      "source": [
        "id = int(input(\"Enter the index: \"))\n",
        "print(f\"The fibonacci series of the given index {id} is:\")\n",
        "# Check if input is 0 then it will print incorrect input\n",
        "if id < 0:\n",
        "  print(\"Incorrect input\")\n",
        "# Check if n is 0 then it will print 0\n",
        "elif id == 0:\n",
        "  print(0)\n",
        "# Check if n is 1,2 it will print 1\n",
        "elif id == 1 or id == 2:\n",
        "  print(1)\n",
        "else:\n",
        "    n1,n2 = 0,1\n",
        "    print(n1, n2, end=\" \") # Print initial terms\n",
        "    for i in range(2, id+1):\n",
        "      temp = n1 + n2\n",
        "      print(temp, end=\" \")\n",
        "      # At last, we will update values\n",
        "      n1,n2 = n2, temp\n"
      ],
      "metadata": {
        "id": "XABeyaMUIHuh",
        "outputId": "f4c7d272-05c1-4c87-882a-3668e3e3d601",
        "colab": {
          "base_uri": "https://localhost:8080/"
        }
      },
      "execution_count": 67,
      "outputs": [
        {
          "output_type": "stream",
          "name": "stdout",
          "text": [
            "Enter the index: 6\n",
            "The fibonacci series of the given index 6 is:\n",
            "0 1 1 2 3 5 8 "
          ]
        }
      ]
    },
    {
      "cell_type": "code",
      "source": [
        "# using lists\n",
        "id = int(input(\"Enter the index: \"))\n",
        "print(f\"The fibonacci series of the given index {id} is:\")\n",
        "\n",
        "# Initialize an empty list to store the Fibonacci sequence\n",
        "fib_sequence = []\n",
        "\n",
        "# if input is 0 then it will print incorrect input\n",
        "if id < 0:\n",
        "    print(\"Incorrect input\")\n",
        "# if n is 0 then it will print 0\n",
        "elif id == 0:\n",
        "    fib_sequence.append(0)\n",
        "elif id == 1:\n",
        "    fib_sequence.extend([0, 1])  # Extend the list with 0 and 1\n",
        "elif id == 2:\n",
        "    fib_sequence.extend([0, 1, 1])  # Extend the list with 0, 1 and 1\n",
        "else:\n",
        "    fib_sequence.extend([0, 1])  # Extend the list with 0 and 1\n",
        "    n1, n2 = 0, 1\n",
        "    for i in range(2, id + 1):\n",
        "        temp = n1 + n2\n",
        "        fib_sequence.append(temp)  # Append the new Fibonacci number to the list\n",
        "        n1, n2 = n2, temp\n",
        "\n",
        "# Print the elements of the list\n",
        "print(*fib_sequence)  # Use * to unpack the list elements for printing"
      ],
      "metadata": {
        "id": "-0zJ9C98LjIL",
        "outputId": "93925f39-0c22-40d5-f83b-1f5c0cc4e889",
        "colab": {
          "base_uri": "https://localhost:8080/"
        }
      },
      "execution_count": 69,
      "outputs": [
        {
          "output_type": "stream",
          "name": "stdout",
          "text": [
            "Enter the index: 11\n",
            "The fibonacci series of the given index 11 is:\n",
            "0 1 1 2 3 5 8 13 21 34 55 89\n"
          ]
        }
      ]
    },
    {
      "cell_type": "code",
      "source": [
        "n = int(input(\"Enter the index: \"))\n",
        "fib_lst = [0,1]\n",
        "if n < 0:\n",
        "  print(\"Incorrect input\")\n",
        "elif n == 0:\n",
        "  print(0)\n",
        "elif n == 1:\n",
        "  print(1)\n",
        "elif n >= 2:\n",
        "  for i in range(2, n+1):\n",
        "    fib_lst.append(fib_lst[i-1] + fib_lst[i-2])\n",
        "  print(f\"The fibonacci series of the given index {n} is: {fib_lst}\")"
      ],
      "metadata": {
        "id": "ZQC43bKJMZqB",
        "outputId": "a8a5b3fe-ec8b-4310-a5ce-7d0712c455b3",
        "colab": {
          "base_uri": "https://localhost:8080/"
        }
      },
      "execution_count": 78,
      "outputs": [
        {
          "output_type": "stream",
          "name": "stdout",
          "text": [
            "Enter the index: 12\n",
            "The fibonacci series of the given index 12 is: [0, 1, 1, 2, 3, 5, 8, 13, 21, 34, 55, 89, 144]\n"
          ]
        }
      ]
    }
  ]
}