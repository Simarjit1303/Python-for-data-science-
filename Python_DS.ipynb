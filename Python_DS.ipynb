{
  "nbformat": 4,
  "nbformat_minor": 0,
  "metadata": {
    "colab": {
      "provenance": [],
      "authorship_tag": "ABX9TyNRzftpSs/ZnpPCIUPTPt3i",
      "include_colab_link": true
    },
    "kernelspec": {
      "name": "python3",
      "display_name": "Python 3"
    },
    "language_info": {
      "name": "python"
    }
  },
  "cells": [
    {
      "cell_type": "markdown",
      "metadata": {
        "id": "view-in-github",
        "colab_type": "text"
      },
      "source": [
        "<a href=\"https://colab.research.google.com/github/Simarjit1303/Python-for-data-science-/blob/main/Python_DS.ipynb\" target=\"_parent\"><img src=\"https://colab.research.google.com/assets/colab-badge.svg\" alt=\"Open In Colab\"/></a>"
      ]
    },
    {
      "cell_type": "code",
      "execution_count": 1,
      "metadata": {
        "id": "1t42BUG4wAGV",
        "colab": {
          "base_uri": "https://localhost:8080/"
        },
        "outputId": "4d872f05-4dcc-4843-a70c-10ccdcc2c9f9"
      },
      "outputs": [
        {
          "output_type": "execute_result",
          "data": {
            "text/plain": [
              "18"
            ]
          },
          "metadata": {},
          "execution_count": 1
        }
      ],
      "source": [
        "st = \"Michael is a good example: Michael Jordan was a very good basketball player. Howver, he is retired now\"\n",
        "len(st.split(\" \"))"
      ]
    },
    {
      "cell_type": "code",
      "source": [
        "name = \"Sai Pawan\"\n",
        "message  = f\"The name of the student is {name}\"\n",
        "print(message)"
      ],
      "metadata": {
        "colab": {
          "base_uri": "https://localhost:8080/"
        },
        "id": "wyfLJIIN1c6g",
        "outputId": "32d558ec-478a-4e5b-e656-dae47b1793e1"
      },
      "execution_count": 2,
      "outputs": [
        {
          "output_type": "stream",
          "name": "stdout",
          "text": [
            "The name of the student is Sai Pawan\n"
          ]
        }
      ]
    },
    {
      "cell_type": "code",
      "source": [
        "name = \"Gisma\"\n",
        "message  = f\"The name of the university is {name}\"\n",
        "print(message)"
      ],
      "metadata": {
        "colab": {
          "base_uri": "https://localhost:8080/"
        },
        "id": "BSNWQeXF0skS",
        "outputId": "33d92ac8-6b19-4092-acc7-2f876f1edd00"
      },
      "execution_count": 3,
      "outputs": [
        {
          "output_type": "stream",
          "name": "stdout",
          "text": [
            "The name of the university is Gisma\n"
          ]
        }
      ]
    },
    {
      "cell_type": "code",
      "source": [
        "First_name = \"Simarjit\"\n",
        "Last_name = \"Singh\"\n",
        "print(f\"My name is {First_name} and my surname is {Last_name}\")"
      ],
      "metadata": {
        "colab": {
          "base_uri": "https://localhost:8080/"
        },
        "id": "YHlUTwFb1wpH",
        "outputId": "b1baf183-2761-47e5-e9aa-5d0905beff25"
      },
      "execution_count": 4,
      "outputs": [
        {
          "output_type": "stream",
          "name": "stdout",
          "text": [
            "My name is Simarjit and my surname is Singh\n"
          ]
        }
      ]
    },
    {
      "cell_type": "code",
      "source": [
        "lst = [23, 2, 4, 5, 7, 23, 1, 3, 24, 6, 7, 8, 2, 4, 5, 100]\n",
        "print(list(set(lst)))"
      ],
      "metadata": {
        "colab": {
          "base_uri": "https://localhost:8080/"
        },
        "id": "iSGbHZyR3ODL",
        "outputId": "1b848714-56e6-4c35-9740-2c9baf1c5022"
      },
      "execution_count": 5,
      "outputs": [
        {
          "output_type": "stream",
          "name": "stdout",
          "text": [
            "[1, 2, 3, 4, 5, 6, 7, 8, 100, 23, 24]\n"
          ]
        }
      ]
    },
    {
      "cell_type": "code",
      "source": [
        "x = 12\n",
        "y = 33\n",
        "if x < y and y % 2 != 0:\n",
        "  print(\"Yes\")\n",
        "else:\n",
        "  print(\"No\")"
      ],
      "metadata": {
        "colab": {
          "base_uri": "https://localhost:8080/"
        },
        "id": "1iQDOoqNO1JR",
        "outputId": "772694a7-e975-4787-e74b-13e464cdbddf"
      },
      "execution_count": 6,
      "outputs": [
        {
          "output_type": "stream",
          "name": "stdout",
          "text": [
            "Yes\n"
          ]
        }
      ]
    },
    {
      "cell_type": "code",
      "source": [
        "x,y = 12,33\n",
        "status =  \"Positive\" if x < y and y % 2 != 0 else \"Negative\""
      ],
      "metadata": {
        "id": "ECKogP-ERmod"
      },
      "execution_count": 7,
      "outputs": []
    },
    {
      "cell_type": "markdown",
      "source": [
        "# Iterative Statements"
      ],
      "metadata": {
        "id": "Wc7hy-2dxdQ2"
      }
    },
    {
      "cell_type": "code",
      "source": [
        "# While loop\n",
        "x = int(input(\"Enter a number: \"))\n",
        "\n",
        "while x>0:\n",
        "  print(' * '*x)\n",
        "  x -= 1"
      ],
      "metadata": {
        "id": "F2FQnGUG2FnM",
        "outputId": "b717f397-6ca7-4c37-cbfc-a8b564b90483",
        "colab": {
          "base_uri": "https://localhost:8080/"
        }
      },
      "execution_count": 8,
      "outputs": [
        {
          "output_type": "stream",
          "name": "stdout",
          "text": [
            "Enter a number: 5\n",
            " *  *  *  *  * \n",
            " *  *  *  * \n",
            " *  *  * \n",
            " *  * \n",
            " * \n"
          ]
        }
      ]
    },
    {
      "cell_type": "code",
      "source": [
        "# While loop\n",
        "n = int(input(\"Enter a number: \"))\n",
        "\n",
        "x = 1\n",
        "while x < n:\n",
        "  print('*'*x)\n",
        "  x += 1"
      ],
      "metadata": {
        "id": "rCiaeGPq2wh8",
        "outputId": "e017922a-5f0c-40bb-80f4-8d13a62ab7e0",
        "colab": {
          "base_uri": "https://localhost:8080/"
        }
      },
      "execution_count": 9,
      "outputs": [
        {
          "output_type": "stream",
          "name": "stdout",
          "text": [
            "Enter a number: 5\n",
            "*\n",
            "**\n",
            "***\n",
            "****\n"
          ]
        }
      ]
    },
    {
      "cell_type": "markdown",
      "source": [
        "#for loop"
      ],
      "metadata": {
        "id": "Vx9p_kx74ovE"
      }
    },
    {
      "cell_type": "code",
      "source": [
        "# for loop\n",
        "for i in [1,2,3]:\n",
        "  print(i)"
      ],
      "metadata": {
        "id": "pV8j2aEE35Wd",
        "colab": {
          "base_uri": "https://localhost:8080/"
        },
        "outputId": "a3b08ed1-a764-4123-d184-f3a9dbf7335f"
      },
      "execution_count": 10,
      "outputs": [
        {
          "output_type": "stream",
          "name": "stdout",
          "text": [
            "1\n",
            "2\n",
            "3\n"
          ]
        }
      ]
    },
    {
      "cell_type": "code",
      "source": [
        "[*range(10)]"
      ],
      "metadata": {
        "id": "yayFbcRh4mAl",
        "outputId": "fcf8ec50-d2d2-47ce-ccec-e00a9d5ae037",
        "colab": {
          "base_uri": "https://localhost:8080/"
        }
      },
      "execution_count": 11,
      "outputs": [
        {
          "output_type": "execute_result",
          "data": {
            "text/plain": [
              "[0, 1, 2, 3, 4, 5, 6, 7, 8, 9]"
            ]
          },
          "metadata": {},
          "execution_count": 11
        }
      ]
    },
    {
      "cell_type": "code",
      "source": [
        "for i in range(1,10):\n",
        "  print(i)"
      ],
      "metadata": {
        "id": "_HAk8QBI4xEV",
        "outputId": "465c5f39-c9ec-4588-8c5a-e9a64068d345",
        "colab": {
          "base_uri": "https://localhost:8080/"
        }
      },
      "execution_count": 12,
      "outputs": [
        {
          "output_type": "stream",
          "name": "stdout",
          "text": [
            "1\n",
            "2\n",
            "3\n",
            "4\n",
            "5\n",
            "6\n",
            "7\n",
            "8\n",
            "9\n"
          ]
        }
      ]
    },
    {
      "cell_type": "code",
      "source": [
        "for i in range(1,11, 3):\n",
        "  print(i)"
      ],
      "metadata": {
        "id": "tIC0Ccr-5LQu",
        "outputId": "c2508519-50f4-4acb-9a0f-f9e8c71bc5d3",
        "colab": {
          "base_uri": "https://localhost:8080/"
        }
      },
      "execution_count": 13,
      "outputs": [
        {
          "output_type": "stream",
          "name": "stdout",
          "text": [
            "1\n",
            "4\n",
            "7\n",
            "10\n"
          ]
        }
      ]
    },
    {
      "cell_type": "code",
      "source": [
        "for i in range(10, 0, -3):\n",
        "  print(i)"
      ],
      "metadata": {
        "id": "QGY4cs2w5eNt",
        "outputId": "dde6bb6c-438c-4501-8eeb-fd6f649847ab",
        "colab": {
          "base_uri": "https://localhost:8080/"
        }
      },
      "execution_count": 14,
      "outputs": [
        {
          "output_type": "stream",
          "name": "stdout",
          "text": [
            "10\n",
            "7\n",
            "4\n",
            "1\n"
          ]
        }
      ]
    },
    {
      "cell_type": "code",
      "source": [
        "x = int(input(\"Enter number: \"))\n",
        "for i in range(x):\n",
        "  print(\"*\"*x)\n",
        "  x -= 1"
      ],
      "metadata": {
        "id": "GW1ovWEJ5vFL",
        "outputId": "20e36efe-d2c8-46ca-88d2-b7d06e95938e",
        "colab": {
          "base_uri": "https://localhost:8080/"
        }
      },
      "execution_count": 15,
      "outputs": [
        {
          "output_type": "stream",
          "name": "stdout",
          "text": [
            "Enter number: 5\n",
            "*****\n",
            "****\n",
            "***\n",
            "**\n",
            "*\n"
          ]
        }
      ]
    },
    {
      "cell_type": "code",
      "source": [
        "x = int(input(\"Enter number: \"))\n",
        "for i in range(x+1):\n",
        "  print(\"*\"*i)"
      ],
      "metadata": {
        "id": "avblH5va6AXv",
        "outputId": "14f4a2e9-b732-4e58-a888-12a1e585eae6",
        "colab": {
          "base_uri": "https://localhost:8080/"
        }
      },
      "execution_count": 16,
      "outputs": [
        {
          "output_type": "stream",
          "name": "stdout",
          "text": [
            "Enter number: 5\n",
            "\n",
            "*\n",
            "**\n",
            "***\n",
            "****\n",
            "*****\n"
          ]
        }
      ]
    },
    {
      "cell_type": "markdown",
      "source": [
        "# Break"
      ],
      "metadata": {
        "id": "xv80rwD96ul4"
      }
    },
    {
      "cell_type": "code",
      "source": [
        "for i in range(1,11):\n",
        "  if i == 5:\n",
        "    break\n",
        "  print(i)"
      ],
      "metadata": {
        "id": "UTU5VI846wcf",
        "outputId": "9e47fc31-e3e0-4ac9-ed04-030ae598afd2",
        "colab": {
          "base_uri": "https://localhost:8080/"
        }
      },
      "execution_count": 17,
      "outputs": [
        {
          "output_type": "stream",
          "name": "stdout",
          "text": [
            "1\n",
            "2\n",
            "3\n",
            "4\n"
          ]
        }
      ]
    },
    {
      "cell_type": "markdown",
      "source": [
        "# Continue"
      ],
      "metadata": {
        "id": "b0WAlKJt6-up"
      }
    },
    {
      "cell_type": "code",
      "source": [
        "for i in range(1,11):\n",
        "  if i == 5:\n",
        "    continue\n",
        "  print(i)"
      ],
      "metadata": {
        "id": "CtFzV9ej7BRZ",
        "outputId": "fa8972a5-c8f0-4af0-ee41-967ab46ac44d",
        "colab": {
          "base_uri": "https://localhost:8080/"
        }
      },
      "execution_count": 18,
      "outputs": [
        {
          "output_type": "stream",
          "name": "stdout",
          "text": [
            "1\n",
            "2\n",
            "3\n",
            "4\n",
            "6\n",
            "7\n",
            "8\n",
            "9\n",
            "10\n"
          ]
        }
      ]
    },
    {
      "cell_type": "markdown",
      "source": [
        "# Pass"
      ],
      "metadata": {
        "id": "tsiSm3Fo7Hj0"
      }
    },
    {
      "cell_type": "code",
      "source": [
        "n = int(input(\"Enter nuber\"))\n",
        "while n != 0:\n",
        "  factorial = 1\n",
        "  factorial_expression = \"1\"\n",
        "  for i in range(2, n+1):\n",
        "    factorial *= i\n",
        "    factorial_expression += f\"*{i}\"\n",
        "  print(f\"{n}! = {factorial_expression}!\")\n",
        "  n -= 1\n",
        "else:\n",
        "  print(\"0! = 1\")\n"
      ],
      "metadata": {
        "id": "aRbTPcbc7G4B",
        "outputId": "ac3f3438-92f0-482d-bc9f-163d2e17b1c8",
        "colab": {
          "base_uri": "https://localhost:8080/"
        }
      },
      "execution_count": 19,
      "outputs": [
        {
          "output_type": "stream",
          "name": "stdout",
          "text": [
            "Enter nuber5\n",
            "5! = 1*2*3*4*5!\n",
            "4! = 1*2*3*4!\n",
            "3! = 1*2*3!\n",
            "2! = 1*2!\n",
            "1! = 1!\n",
            "0! = 1\n"
          ]
        }
      ]
    },
    {
      "cell_type": "code",
      "source": [
        "n = int(input(\"Enter nuber\"))\n",
        "\n",
        "factorial = 1\n",
        "factorial_expression = \"1\"\n",
        "print(f\"0! = 1\")\n",
        "for i in range(1, n+1):\n",
        "  factorial *= i\n",
        "  factorial_expression = \"1\"\n",
        "  for j in range(2, i+1):\n",
        "    factorial_expression += f\"*{j}\"\n",
        "  print(f\"{i}! = {factorial_expression}!\")\n"
      ],
      "metadata": {
        "id": "G7_lOJUZBaQg",
        "outputId": "46d35012-0a02-4d29-bc1d-35d18f515f20",
        "colab": {
          "base_uri": "https://localhost:8080/"
        }
      },
      "execution_count": 20,
      "outputs": [
        {
          "output_type": "stream",
          "name": "stdout",
          "text": [
            "Enter nuber5\n",
            "0! = 1\n",
            "1! = 1!\n",
            "2! = 1*2!\n",
            "3! = 1*2*3!\n",
            "4! = 1*2*3*4!\n",
            "5! = 1*2*3*4*5!\n"
          ]
        }
      ]
    },
    {
      "cell_type": "markdown",
      "source": [
        "Q . Develop a Python program to give the index of Fibonacci Sequence from user and print the sequence from beginning to the given index."
      ],
      "metadata": {
        "id": "lcW7FyKDH5vM"
      }
    },
    {
      "cell_type": "code",
      "source": [
        "id = int(input(\"Enter the index: \"))\n",
        "print(f\"The fibonacci series of the given index {id} is:\")\n",
        "# Check if input is 0 then it will print incorrect input\n",
        "if id < 0:\n",
        "  print(\"Incorrect input\")\n",
        "# Check if n is 0 then it will print 0\n",
        "elif id == 0:\n",
        "  print(0)\n",
        "# Check if n is 1,2 it will print 1\n",
        "elif id == 1 or id == 2:\n",
        "  print(1)\n",
        "else:\n",
        "    n1,n2 = 0,1\n",
        "    print(n1, n2, end=\" \") # Print initial terms\n",
        "    for i in range(2, id+1):\n",
        "      temp = n1 + n2\n",
        "      print(temp, end=\" \")\n",
        "      # At last, we will update values\n",
        "      n1,n2 = n2, temp\n"
      ],
      "metadata": {
        "id": "XABeyaMUIHuh",
        "outputId": "88bdfa2f-e919-4fe5-aa36-5f9ca17113df",
        "colab": {
          "base_uri": "https://localhost:8080/"
        }
      },
      "execution_count": 21,
      "outputs": [
        {
          "output_type": "stream",
          "name": "stdout",
          "text": [
            "Enter the index: 5\n",
            "The fibonacci series of the given index 5 is:\n",
            "0 1 1 2 3 5 "
          ]
        }
      ]
    },
    {
      "cell_type": "code",
      "source": [
        "# using lists\n",
        "id = int(input(\"Enter the index: \"))\n",
        "print(f\"The fibonacci series of the given index {id} is:\")\n",
        "\n",
        "# Initialize an empty list to store the Fibonacci sequence\n",
        "fib_sequence = []\n",
        "\n",
        "# if input is 0 then it will print incorrect input\n",
        "if id < 0:\n",
        "    print(\"Incorrect input\")\n",
        "# if n is 0 then it will print 0\n",
        "elif id == 0:\n",
        "    fib_sequence.append(0)\n",
        "elif id == 1:\n",
        "    fib_sequence.extend([0, 1])  # Extend the list with 0 and 1\n",
        "elif id == 2:\n",
        "    fib_sequence.extend([0, 1, 1])  # Extend the list with 0, 1 and 1\n",
        "else:\n",
        "    fib_sequence.extend([0, 1])  # Extend the list with 0 and 1\n",
        "    n1, n2 = 0, 1\n",
        "    for i in range(2, id + 1):\n",
        "        temp = n1 + n2\n",
        "        fib_sequence.append(temp)  # Append the new Fibonacci number to the list\n",
        "        n1, n2 = n2, temp\n",
        "\n",
        "# Print the elements of the list\n",
        "print(*fib_sequence)  # Use * to unpack the list elements for printing"
      ],
      "metadata": {
        "id": "-0zJ9C98LjIL",
        "outputId": "0d3b9856-60a4-4d13-a39f-33c0673c5598",
        "colab": {
          "base_uri": "https://localhost:8080/"
        }
      },
      "execution_count": 22,
      "outputs": [
        {
          "output_type": "stream",
          "name": "stdout",
          "text": [
            "Enter the index: 5\n",
            "The fibonacci series of the given index 5 is:\n",
            "0 1 1 2 3 5\n"
          ]
        }
      ]
    },
    {
      "cell_type": "code",
      "source": [
        "n = int(input(\"Enter the index: \"))\n",
        "fib_lst = [0,1]\n",
        "if n < 0:\n",
        "  print(\"Incorrect input\")\n",
        "elif n == 0:\n",
        "  print(0)\n",
        "elif n == 1:\n",
        "  print(1)\n",
        "elif n >= 2:\n",
        "  for i in range(2, n+1):\n",
        "    fib_lst.append(fib_lst[i-1] + fib_lst[i-2])\n",
        "  print(f\"The fibonacci series of the given index {n} is: {fib_lst}\")"
      ],
      "metadata": {
        "id": "ZQC43bKJMZqB",
        "outputId": "791c1514-0f9e-4c92-8ba7-240c359eab0c",
        "colab": {
          "base_uri": "https://localhost:8080/"
        }
      },
      "execution_count": 23,
      "outputs": [
        {
          "output_type": "stream",
          "name": "stdout",
          "text": [
            "Enter the index: 5\n",
            "The fibonacci series of the given index 5 is: [0, 1, 1, 2, 3, 5]\n"
          ]
        }
      ]
    },
    {
      "cell_type": "code",
      "source": [
        "# Creating fib for function\n",
        "def fact(n):\n",
        "  factorial = 1\n",
        "  factorial_expression = \"1\"\n",
        "  print(f\"0! = 1\")\n",
        "  for i in range(1, n+1):\n",
        "    factorial *= i\n",
        "    factorial_expression = \"1\"\n",
        "    for j in range(2, i+1):\n",
        "      factorial_expression += f\"*{j}\"\n",
        "    print(f\"{i}! = {factorial_expression}!\")\n",
        "\n",
        "fact(n = int(input(\"Enter number\")))\n"
      ],
      "metadata": {
        "colab": {
          "base_uri": "https://localhost:8080/"
        },
        "id": "ZYgKoJtxvFCr",
        "outputId": "c9d69e92-7d4d-40c7-b300-73fa94f167a3"
      },
      "execution_count": 25,
      "outputs": [
        {
          "output_type": "stream",
          "name": "stdout",
          "text": [
            "Enter number5\n",
            "0! = 1\n",
            "1! = 1!\n",
            "2! = 1*2!\n",
            "3! = 1*2*3!\n",
            "4! = 1*2*3*4!\n",
            "5! = 1*2*3*4*5!\n"
          ]
        }
      ]
    },
    {
      "cell_type": "code",
      "source": [
        "def fact(n):\n",
        "    \"\"\"\n",
        "    In this function, we are going to implement the factorial function\n",
        "    input  : int(n)\n",
        "    output : int(n! = n * (n-1) * (n-2) * ... * 2 * 1 )\n",
        "    \"\"\"\n",
        "    if n < 0:\n",
        "      return None\n",
        "    elif n == 0:\n",
        "      return 0\n",
        "    elif n == 1:\n",
        "      return 1\n",
        "    elif n >= 2:\n",
        "      f = 1\n",
        "      for i in range(2, n+1):\n",
        "        f *= i\n",
        "      return (f\"The Fibonacci series of the given number {n} is: {f}\")\n",
        "\n",
        "\n",
        "print(fact(n = int(input(\"Enter number- \"))))"
      ],
      "metadata": {
        "colab": {
          "base_uri": "https://localhost:8080/"
        },
        "id": "E-2mGq6J5zb2",
        "outputId": "4aa779c6-405e-4568-ed54-8ef6abd06c09"
      },
      "execution_count": 46,
      "outputs": [
        {
          "output_type": "stream",
          "name": "stdout",
          "text": [
            "Enter number- 6\n",
            "720\n"
          ]
        }
      ]
    },
    {
      "cell_type": "code",
      "source": [
        "def fib(n):\n",
        "    if n < 0:\n",
        "      return None\n",
        "    elif n == 0:\n",
        "      return 0\n",
        "    elif n == 1:\n",
        "      return 1\n",
        "    elif n >= 2:\n",
        "      fib_lst = [0,1]\n",
        "      for i in range(2, n+1):\n",
        "        fib_lst.append(fib_lst[i-1] + fib_lst[i-2])\n",
        "      return (f\"The Fibonacci series of the given index {n} is: {fib_lst}\")\n",
        "\n",
        "\n",
        "print(fib(n = int(input(\"Enter number- \"))))"
      ],
      "metadata": {
        "colab": {
          "base_uri": "https://localhost:8080/"
        },
        "id": "77BLjEBq4U_E",
        "outputId": "78dd9ca3-b037-43ea-f3b4-cfa29778099e"
      },
      "execution_count": 37,
      "outputs": [
        {
          "output_type": "stream",
          "name": "stdout",
          "text": [
            "Enter number- 5\n",
            "The Fibonacci series of the given index 5 is: [0, 1, 1, 2, 3, 5]\n"
          ]
        }
      ]
    },
    {
      "cell_type": "code",
      "source": [
        "from math import sqrt\n",
        "def S(x,n):\n",
        "  if n == 1:\n",
        "    return sqrt(x)\n",
        "  else:\n",
        "    return sqrt(x * S(x, n-1))\n",
        "\n",
        "\n",
        "S(x=3, n=100)"
      ],
      "metadata": {
        "id": "F8I2Q1c5Nrdx",
        "outputId": "3c452b53-3b7c-4359-95ac-8d4649486fb0",
        "colab": {
          "base_uri": "https://localhost:8080/"
        }
      },
      "execution_count": 11,
      "outputs": [
        {
          "output_type": "execute_result",
          "data": {
            "text/plain": [
              "2.9999999999999996"
            ]
          },
          "metadata": {},
          "execution_count": 11
        }
      ]
    }
  ]
}