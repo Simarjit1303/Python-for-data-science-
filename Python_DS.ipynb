{
  "nbformat": 4,
  "nbformat_minor": 0,
  "metadata": {
    "colab": {
      "provenance": [],
      "authorship_tag": "ABX9TyOb2ZKaAY50SIFYtTl+egws",
      "include_colab_link": true
    },
    "kernelspec": {
      "name": "python3",
      "display_name": "Python 3"
    },
    "language_info": {
      "name": "python"
    }
  },
  "cells": [
    {
      "cell_type": "markdown",
      "metadata": {
        "id": "view-in-github",
        "colab_type": "text"
      },
      "source": [
        "<a href=\"https://colab.research.google.com/github/Simarjit1303/Python-for-data-science-/blob/main/Python_DS.ipynb\" target=\"_parent\"><img src=\"https://colab.research.google.com/assets/colab-badge.svg\" alt=\"Open In Colab\"/></a>"
      ]
    },
    {
      "cell_type": "code",
      "execution_count": 4,
      "metadata": {
        "id": "1t42BUG4wAGV",
        "colab": {
          "base_uri": "https://localhost:8080/"
        },
        "outputId": "0d88550c-6c47-4546-da71-ba599cf1591c"
      },
      "outputs": [
        {
          "output_type": "execute_result",
          "data": {
            "text/plain": [
              "18"
            ]
          },
          "metadata": {},
          "execution_count": 4
        }
      ],
      "source": [
        "st = \"Michael is a good example: Michael Jordan was a very good basketball player. Howver, he is retired now\"\n",
        "len(st.split(\" \"))"
      ]
    },
    {
      "cell_type": "code",
      "source": [
        "name = \"Sai Pawan\"\n",
        "message  = f\"The name of the student is {name}\"\n",
        "print(message)"
      ],
      "metadata": {
        "colab": {
          "base_uri": "https://localhost:8080/"
        },
        "id": "wyfLJIIN1c6g",
        "outputId": "7cbfd1bf-3243-4edf-93bb-215ca310bf30"
      },
      "execution_count": 11,
      "outputs": [
        {
          "output_type": "stream",
          "name": "stdout",
          "text": [
            "The name of the student is Sai Pawan\n"
          ]
        }
      ]
    },
    {
      "cell_type": "code",
      "source": [
        "name = \"Gisma\"\n",
        "message  = f\"The name of the university is {name}\"\n",
        "print(message)"
      ],
      "metadata": {
        "colab": {
          "base_uri": "https://localhost:8080/"
        },
        "id": "BSNWQeXF0skS",
        "outputId": "9a2e062a-cc20-409c-9ac8-935d7f7f5432"
      },
      "execution_count": 13,
      "outputs": [
        {
          "output_type": "stream",
          "name": "stdout",
          "text": [
            "The name of the university is Gisma\n"
          ]
        }
      ]
    },
    {
      "cell_type": "code",
      "source": [
        "First_name = \"Simarjit\"\n",
        "Last_name = \"Singh\"\n",
        "print(f\"My name is {First_name} and my surname is {Last_name}\")"
      ],
      "metadata": {
        "colab": {
          "base_uri": "https://localhost:8080/"
        },
        "id": "YHlUTwFb1wpH",
        "outputId": "c07f4140-0190-4c99-f027-7d8e274ee02f"
      },
      "execution_count": 15,
      "outputs": [
        {
          "output_type": "stream",
          "name": "stdout",
          "text": [
            "My name is Simarjit and my surname is Singh\n"
          ]
        }
      ]
    },
    {
      "cell_type": "code",
      "source": [
        "lst = [23, 2, 4, 5, 7, 23, 1, 3, 24, 6, 7, 8, 2, 4, 5, 100]\n",
        "print(list(set(lst)))"
      ],
      "metadata": {
        "colab": {
          "base_uri": "https://localhost:8080/"
        },
        "id": "iSGbHZyR3ODL",
        "outputId": "639740de-9ab4-4b0c-eecc-4cabcd6cd855"
      },
      "execution_count": 18,
      "outputs": [
        {
          "output_type": "stream",
          "name": "stdout",
          "text": [
            "[1, 2, 3, 4, 5, 6, 7, 8, 100, 23, 24]\n"
          ]
        }
      ]
    },
    {
      "cell_type": "code",
      "source": [
        "x = 12\n",
        "y = 33\n",
        "if x < y and y % 2 != 0:\n",
        "  print(\"Yes\")\n",
        "else:\n",
        "  print(\"No\")"
      ],
      "metadata": {
        "colab": {
          "base_uri": "https://localhost:8080/"
        },
        "id": "1iQDOoqNO1JR",
        "outputId": "0a86746c-a122-45c9-ee19-7953acf44f98"
      },
      "execution_count": 22,
      "outputs": [
        {
          "output_type": "stream",
          "name": "stdout",
          "text": [
            "Yes\n"
          ]
        }
      ]
    },
    {
      "cell_type": "code",
      "source": [
        "x,y = 12,33\n",
        "status =  \"Positive\" if x < y and y % 2 != 0 else \"Negative\""
      ],
      "metadata": {
        "colab": {
          "base_uri": "https://localhost:8080/"
        },
        "id": "ECKogP-ERmod",
        "outputId": "ecd7926e-2eb3-4063-8cfd-40bbf8680d4b"
      },
      "execution_count": 23,
      "outputs": [
        {
          "output_type": "stream",
          "name": "stdout",
          "text": [
            "yes\n"
          ]
        }
      ]
    }
  ]
}